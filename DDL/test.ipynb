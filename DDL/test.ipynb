{
 "metadata": {
  "language_info": {
   "codemirror_mode": {
    "name": "ipython",
    "version": 3
   },
   "file_extension": ".py",
   "mimetype": "text/x-python",
   "name": "python",
   "nbconvert_exporter": "python",
   "pygments_lexer": "ipython3",
   "version": "3.6.9"
  },
  "orig_nbformat": 2,
  "kernelspec": {
   "name": "python369jvsc74a57bd031f2aee4e71d21fbe5cf8b01ff0e069b9275f58929596ceb00d14d90e3e16cd6",
   "display_name": "Python 3.6.9 64-bit"
  },
  "metadata": {
   "interpreter": {
    "hash": "31f2aee4e71d21fbe5cf8b01ff0e069b9275f58929596ceb00d14d90e3e16cd6"
   }
  }
 },
 "nbformat": 4,
 "nbformat_minor": 2,
 "cells": [
  {
   "cell_type": "code",
   "execution_count": 2,
   "metadata": {},
   "outputs": [],
   "source": [
    "import csv\n",
    "import re\n",
    "import time as ti\n",
    "\n",
    "import numpy as np\n",
    "import pandas as pd\n",
    "import argparse\n",
    "import pymysql\n",
    "import warnings\n",
    "\n",
    "warnings.filterwarnings(\"ignore\")\n",
    "import function as fn\n",
    "\n",
    "from config import Config as cf\n",
    "from itertools import product\n",
    "temp = pd.read_csv(\"./temp.csv\",\n",
    "                       names=[\n",
    "                           \"ci_course_no\", \"test_time\", \"ci_class_name\",\n",
    "                           \"ci_student_number\", \"ci_teacher_name\",\n",
    "                           \"ci_class_unit\"\n",
    "                       ])"
   ]
  },
  {
   "cell_type": "code",
   "execution_count": 31,
   "metadata": {},
   "outputs": [
    {
     "output_type": "execute_result",
     "data": {
      "text/plain": [
       "21    15\n",
       "3     14\n",
       "5     14\n",
       "36    13\n",
       "34    13\n",
       "6     12\n",
       "16    12\n",
       "8     10\n",
       "30    10\n",
       "11     9\n",
       "13     9\n",
       "27     9\n",
       "39     8\n",
       "0      8\n",
       "37     8\n",
       "33     8\n",
       "31     8\n",
       "29     7\n",
       "12     7\n",
       "23     7\n",
       "26     6\n",
       "10     6\n",
       "24     6\n",
       "19     5\n",
       "35     5\n",
       "28     5\n",
       "1      4\n",
       "25     4\n",
       "14     4\n",
       "15     4\n",
       "18     4\n",
       "22     4\n",
       "32     3\n",
       "17     3\n",
       "2      3\n",
       "4      2\n",
       "38     2\n",
       "20     2\n",
       "9      1\n",
       "Name: test_time, dtype: int64"
      ]
     },
     "metadata": {},
     "execution_count": 31
    }
   ],
   "source": [
    "temp.loc[:,\"test_time\"].value_counts()"
   ]
  },
  {
   "cell_type": "code",
   "execution_count": 29,
   "metadata": {},
   "outputs": [
    {
     "output_type": "execute_result",
     "data": {
      "text/plain": [
       "274"
      ]
     },
     "metadata": {},
     "execution_count": 29
    }
   ],
   "source": [
    "temp.shape[0]"
   ]
  },
  {
   "cell_type": "code",
   "execution_count": 3,
   "metadata": {},
   "outputs": [],
   "source": [
    "dataAll = pd.read_csv(\"temp.csv\", header = None) "
   ]
  },
  {
   "cell_type": "code",
   "execution_count": 23,
   "metadata": {},
   "outputs": [],
   "source": [
    "data = pd.read_csv(\"data//teacher_inf.csv\", header=None, usecols=[0, 1])"
   ]
  },
  {
   "cell_type": "code",
   "execution_count": 26,
   "metadata": {},
   "outputs": [
    {
     "output_type": "execute_result",
     "data": {
      "text/plain": [
       "int"
      ]
     },
     "metadata": {},
     "execution_count": 26
    }
   ],
   "source": [
    "type(data.shape[0])"
   ]
  },
  {
   "cell_type": "code",
   "execution_count": null,
   "metadata": {},
   "outputs": [],
   "source": []
  }
 ]
}