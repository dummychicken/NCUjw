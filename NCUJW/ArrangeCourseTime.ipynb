{
 "metadata": {
  "language_info": {
   "codemirror_mode": {
    "name": "ipython",
    "version": 3
   },
   "file_extension": ".py",
   "mimetype": "text/x-python",
   "name": "python",
   "nbconvert_exporter": "python",
   "pygments_lexer": "ipython3",
   "version": "3.6.8"
  },
  "orig_nbformat": 2,
  "kernelspec": {
   "name": "python368jvsc74a57bd08bf3c53b5bd1c68c2325a2dcc243c7b1b8cb5fd291ebe30dbbc3f2b3f606b4f4",
   "display_name": "Python 3.6.8 64-bit"
  },
  "metadata": {
   "interpreter": {
    "hash": "8bf3c53b5bd1c68c2325a2dcc243c7b1b8cb5fd291ebe30dbbc3f2b3f606b4f4"
   }
  }
 },
 "nbformat": 4,
 "nbformat_minor": 2,
 "cells": [
  {
   "cell_type": "code",
   "execution_count": 75,
   "metadata": {
    "tags": []
   },
   "outputs": [],
   "source": [
    "import csv \n",
    "import pandas as pd\n",
    "import numpy as np\n",
    "period = 24\n",
    "limited = 60\n",
    "threshold = 100\n",
    "# 按照每门课程的考试班级数目进行排序\n",
    "def SamplingCourse(file):\n",
    "    with open(file,\"r\",encoding=\"UTF-8\") as f:\n",
    "        reader = csv.reader(f)\n",
    "        column = [row[0] for row in reader]\n",
    "    hashmapClass = {}\n",
    "    for i in range(len(column)):\n",
    "        hashmapClass[column[i]] = hashmapClass.get(column[i],0) + 1\n",
    "    sortedCourse = sorted(hashmapClass.items(), key=lambda d:d[1], reverse = True)\n",
    "    return sortedCourse[15:500]"
   ]
  },
  {
   "cell_type": "code",
   "execution_count": 76,
   "metadata": {},
   "outputs": [],
   "source": [
    "# 生成课程和班级的表\n",
    "data = pd.read_csv(\"class.csv\", usecols=[\"ci_course_no\",\"ci_class_name\",\"ci_student_number\",\"ci_teacher_name\",\"ci_class_dep\"])"
   ]
  },
  {
   "cell_type": "code",
   "execution_count": 77,
   "metadata": {},
   "outputs": [],
   "source": [
    "# 找出共同能考试的时间\n",
    "def findCommonTime(temp, listClass):\n",
    "    commonTime = []\n",
    "    for i in range(len(temp)):\n",
    "        commonTime.append(temp[i] & listClass[i])\n",
    "    return commonTime"
   ]
  },
  {
   "cell_type": "code",
   "execution_count": 78,
   "metadata": {},
   "outputs": [],
   "source": [
    "# 尽可能使考试平均分布\n",
    "def optimalTime(temp):\n",
    "    pt1 = 0\n",
    "    pt2 = len(temp)\n",
    "    while pt1 != pt2-1:\n",
    "        mid = ( pt1 + pt2 ) // 2 \n",
    "        if sum(temp[pt1:mid]) < sum(temp[mid:pt2]):\n",
    "            pt1 = mid\n",
    "        else:\n",
    "            pt2 = mid\n",
    "    if sum(temp[pt1: pt1+2]) <= 1:\n",
    "        return temp.index(1)\n",
    "    else:\n",
    "        return pt1"
   ]
  },
  {
   "cell_type": "code",
   "execution_count": 79,
   "metadata": {},
   "outputs": [],
   "source": [
    "# 将结果写入表中\n",
    "def writeToCsv(time, course, classes, number, teacher, college):\n",
    "    course = [course] * len(classes)\n",
    "    time = [time] * len(classes)\n",
    "    college = [college[0]] * len(classes)\n",
    "    test = pd.DataFrame({'课程': course, \"考试时间\": time, \"班级\": classes,\"班级人数\": number, \"监考老师\": teacher, \"开课学院\": college})\n",
    "    test.to_csv(\"temp.csv\",encoding = \"utf-8\",mode=\"a\",index = None, header = False)\n"
   ]
  },
  {
   "cell_type": "code",
   "execution_count": 80,
   "metadata": {},
   "outputs": [],
   "source": [
    "# 讲已经排考成功的1修改成0, 如[1,1,1,1]->[0,1,1,1] 维护表\n",
    "def updateClassTime(dict, listclass, index):\n",
    "    for classes in listclass:\n",
    "        dict[classes][index] = 0\n",
    "    return dict"
   ]
  },
  {
   "cell_type": "code",
   "execution_count": 81,
   "metadata": {},
   "outputs": [],
   "source": [
    "# 函数的效果是对班级进行统计, 目的是每个班级必须有一个考试时间表 \n",
    "# 比如 \"行政管理[193-4]班,人工智能191班\" -> ['行政管理193班', '行政管理194班', '人工智能191班']\n",
    "def unitedClass(strClass):\n",
    "    listClasses = strClass.split(\",\")\n",
    "    splitClassList = []\n",
    "    for classes in listClasses:\n",
    "        if \"-\" in classes:\n",
    "            middleIndex = classes.index(\"-\")\n",
    "            firstIndex = classes.index(\"[\")\n",
    "            lastIndex = classes.index(\"]\")\n",
    "            lastClassNum = int(classes[middleIndex + 1 :lastIndex])\n",
    "            firstClassNum = int(classes[middleIndex - 1])\n",
    "            for i in range( firstClassNum, lastClassNum + 1):\n",
    "                splitClassList.append(classes[0:firstIndex] + classes[firstIndex + 1:middleIndex-1] + str(i) + \"班\")\n",
    "        else:\n",
    "            splitClassList.append(classes)\n",
    "    return splitClassList"
   ]
  },
  {
   "cell_type": "code",
   "execution_count": 82,
   "metadata": {},
   "outputs": [],
   "source": [
    "# 这里是在定义拆分规则\n",
    "# 可以人数超出阈值, 则拆分班级, 如果人数没有超过, 就不拆\n",
    "# 可以避免合班的问题\n",
    "def splitClass(classWhoTakeCourse,classCourseNumber):\n",
    "    newClassWhoTakeCourse = []\n",
    "    newClassCourseNumber = []\n",
    "    for i in range(len(classCourseNumber)):\n",
    "        # 这个数字怎么订 还是要看教室的具体规模\n",
    "        if classCourseNumber[i] > 80:\n",
    "            classes = unitedClass(classWhoTakeCourse[i])\n",
    "            # 如果拆分出来的班级小于30人, 就没有必要拆\n",
    "            if classCourseNumber[i] // len(classes) <= 30:\n",
    "                newClassCourseNumber.append(classCourseNumber[i])\n",
    "                newClassWhoTakeCourse.append(classWhoTakeCourse[i])\n",
    "            else:\n",
    "                for unit in classes:\n",
    "                    newClassWhoTakeCourse.append(unit)\n",
    "                    # 这里需要插一段每个班级真正人数的查询\n",
    "                    # 这里是偷懒取了个平均 \n",
    "                    newClassCourseNumber.append(classCourseNumber[i]//len(classes))\n",
    "        else:\n",
    "            newClassCourseNumber.append(classCourseNumber[i])\n",
    "            newClassWhoTakeCourse.append(classWhoTakeCourse[i])\n",
    "    return newClassWhoTakeCourse, newClassCourseNumber"
   ]
  },
  {
   "cell_type": "code",
   "execution_count": 83,
   "metadata": {},
   "outputs": [],
   "source": [
    "# 建立每个老师和时间的联系\n",
    "dictTeacherTime = {}\n",
    "for i in range(len(data)):\n",
    "    teacher = data.loc[i][\"ci_teacher_name\"]\n",
    "    if teacher is np.nan:\n",
    "        continue\n",
    "    elif \":\" in teacher:\n",
    "        teacherlist = teacher.split(\":\")\n",
    "        for teachers in teacherlist:\n",
    "            dictTeacherTime[teachers] = dictTeacherTime.get(teachers,[1]*period)\n",
    "    else:\n",
    "        dictTeacherTime[teacher] = dictTeacherTime.get(teacher,[1]*period)"
   ]
  },
  {
   "cell_type": "code",
   "execution_count": 84,
   "metadata": {},
   "outputs": [],
   "source": [
    "# 建立每个key和value的联系\n",
    "# 比如 课程 和 老师\n",
    "import numpy as np\n",
    "import re \n",
    "\n",
    "def buildConnectionDict(data, key, value):\n",
    "    dictKeyValue = {}\n",
    "    for i in range(len(data)):\n",
    "        keyName = data.loc[i][key]\n",
    "        dictKeyValue[keyName] = dictKeyValue.get(keyName,[])\n",
    "        valueName = data.loc[i][value]\n",
    "        if valueName is np.nan:\n",
    "            continue\n",
    "        elif \":\" in valueName:\n",
    "            valueList = valueName.split(\":\")\n",
    "            for values in valueList:\n",
    "                dictKeyValue[keyName].append(values)\n",
    "        else:\n",
    "            dictKeyValue[keyName].append(valueName)\n",
    "    for key,value in dictKeyValue.items():\n",
    "        value = list(set(value))\n",
    "        dictKeyValue[key] =  value\n",
    "    return dictKeyValue"
   ]
  },
  {
   "cell_type": "code",
   "execution_count": 85,
   "metadata": {},
   "outputs": [],
   "source": [
    "# 建立所有学院和老师的联系\n",
    "dataCollege = pd.read_csv(\"class.csv\", usecols=[\"ci_class_dep\",\"ci_teacher_name\"])\n",
    "dictCollegeTeacher = buildConnectionDict(dataCollege, \"ci_class_dep\",\"ci_teacher_name\")\n",
    "# 建立课程和学院的联系\n",
    "dataCourse = pd.read_csv(\"class.csv\", usecols=[\"ci_class_dep\",\"ci_course_no\"])\n",
    "dictCourseCollege = buildConnectionDict(dataCourse,\"ci_course_no\",\"ci_class_dep\")\n",
    "# 建立课程和老师的联系\n",
    "dataCourseTeacher = pd.read_csv(\"class.csv\", usecols=[\"ci_course_no\",\"ci_teacher_name\"])\n",
    "dictCourseTeacher = buildConnectionDict(dataCourseTeacher,\"ci_course_no\",\"ci_teacher_name\")"
   ]
  },
  {
   "cell_type": "code",
   "execution_count": 86,
   "metadata": {},
   "outputs": [],
   "source": [
    "# 记录不完美情况\n",
    "def writeImperfect(index,TeacherList,data):\n",
    "    rows = []\n",
    "    for i in range(len(index)):\n",
    "        if TeacherList[i] not in data.iloc[index[i]][\"ci_teacher_name\"]:\n",
    "            writeUnitRow = []\n",
    "            writeUnitRow.append(index[i])\n",
    "            for unit in range(len(data.iloc[0])):\n",
    "                writeUnitRow.append(data.iloc[index[i]][unit])\n",
    "            rows.append(writeUnitRow)\n",
    "    with open(\"imperfect.csv\",\"a\",encoding = \"utf-8\",newline=\"\") as csvfile:\n",
    "        writer = csv.writer(csvfile)\n",
    "        writer.writerows(rows)"
   ]
  },
  {
   "cell_type": "code",
   "execution_count": 87,
   "metadata": {},
   "outputs": [
    {
     "output_type": "stream",
     "name": "stdout",
     "text": [
      "Wall time: 4min 44s\n"
     ]
    }
   ],
   "source": [
    "%%time\n",
    "# 生成一个字典，对应的形式是这样的{\"班级1\":[],\"班级2\":[],\"班级3\":[],...}\n",
    "dictClassTime = {}\n",
    "for courseNumber in SamplingCourse(\"class.csv\"):\n",
    "    course = courseNumber[0]\n",
    "    temp = [1] * period\n",
    "    tempTeacher = [1] * period\n",
    "    classWhoTakeCourse = []\n",
    "    classCourseNumber = []\n",
    "    unitClass = []\n",
    "    classTeacherList = []\n",
    "    indexList = []\n",
    "\n",
    "    for i in range(len(data)):\n",
    "        # 查找每一个考这门课的班级\n",
    "        if data.loc[i][\"ci_course_no\"] == course:\n",
    "            className = data.loc[i][\"ci_class_name\"]\n",
    "            classNumber = data.loc[i][\"ci_student_number\"]\n",
    "            # 保存班级人数和班级的时候以整体为单位\n",
    "            classWhoTakeCourse.append(className)\n",
    "            classCourseNumber.append(classNumber)\n",
    "            indexList.append(i)\n",
    "\n",
    "            # 取每个班级的公共时间\n",
    "            splitClassList = unitedClass(className) \n",
    "            for className in splitClassList:\n",
    "                # 对考这门课的班级的时间进行初始化, 如果不存在就生成一个[1,1,1,1...,]\n",
    "                dictClassTime[className] = dictClassTime.get(className,[1] * period)\n",
    "                # 找到所有参加这门考试 班级的共同空闲时间\n",
    "                # [0,1,1,...,] 和 [1,0,1,...,] 相与\n",
    "                temp = findCommonTime(temp,dictClassTime[className])\n",
    "                unitClass.append(className)\n",
    "            \n",
    "            classTeacher = data.loc[i][\"ci_teacher_name\"]\n",
    "            classTeacherList.append(classTeacher)\n",
    "            \n",
    "            # 接下取监考老师的公共时间\n",
    "            unitTeacher = []\n",
    "            classTeacher = data.loc[i][\"ci_teacher_name\"] \n",
    "            if \":\" in classTeacher:\n",
    "                teachersList = classTeacher.split(\":\")\n",
    "                for teacher in teachersList:\n",
    "                    tempTeacher = findCommonTime(tempTeacher, dictTeacherTime[teacher])\n",
    "                    unitTeacher.append(teacher)\n",
    "            else:\n",
    "                tempTeacher = findCommonTime(tempTeacher,dictTeacherTime[classTeacher])\n",
    "                unitTeacher.append(classTeacher)\n",
    "    \n",
    "    # 去除重复老师\n",
    "    unitTeacher = list(set(unitTeacher))\n",
    "    \n",
    "\n",
    "    # 两个公共时间相与\n",
    "    temp = findCommonTime(tempTeacher,temp)\n",
    "    \n",
    "    # 判断监考老师是否足够, 不够从同学院找\n",
    "    if len(unitTeacher) < courseNumber[1]:\n",
    "        college = dictCourseCollege[course]\n",
    "        collegeTeachers = dictCollegeTeacher[college[0]]\n",
    "        for Teacher in collegeTeachers:\n",
    "            if Teacher not in unitTeacher and findCommonTime(dictTeacherTime[Teacher], tempTeacher) == tempTeacher:\n",
    "                unitTeacher.append(Teacher)\n",
    "\n",
    "    # 监考老师多了, 就选到只有这么多老师, 非常粗糙         \n",
    "    if len(unitTeacher) > courseNumber[1]:\n",
    "        unitTeacher = unitTeacher[0:courseNumber[1]]\n",
    "    \n",
    "    \n",
    "    # 记录没有授课老师的情况\n",
    "    writeImperfect(indexList,unitTeacher,data)\n",
    "    if 1 not in temp:\n",
    "        print(\"当前\" + course +\"无法排考\")\n",
    "    # 找到共同可行的时间, 写入csv, 并且标记占用时间\n",
    "    else:\n",
    "        time = optimalTime(temp)\n",
    "        # newClassWhoTakeCourse, newClassCourseNumber = splitClass(classWhoTakeCourse,classCourseNumber)\n",
    "        college = dictCourseCollege[course]\n",
    "        writeToCsv(time,course,classWhoTakeCourse,classCourseNumber, unitTeacher,college)      \n",
    "        # writeToCsv(temp,course,classWhoTakeCourse,classCourseNumber,college)              \n",
    "        # 更新老师班级的时间表\n",
    "        updateClassTime(dictClassTime, unitClass, time)\n",
    "        updateClassTime(dictTeacherTime, unitTeacher, time)"
   ]
  },
  {
   "cell_type": "code",
   "execution_count": 88,
   "metadata": {},
   "outputs": [],
   "source": [
    "limited = 60\n",
    "threshold = 100"
   ]
  },
  {
   "cell_type": "code",
   "execution_count": 89,
   "metadata": {},
   "outputs": [],
   "source": [
    "def arrangeNewTeacher(moniterTeacherList,index, round):\n",
    "    sameCollegeTeacher = dictCollegeTeacher[dataAll.iloc[index][5]]\n",
    "    strTeachers = \"\"\n",
    "    for i in range(round):\n",
    "        for teacher in sameCollegeTeacher:\n",
    "            flag = 0\n",
    "            if dictTeacherTime[teacher][dataAll.iloc[index][1]] == 1:\n",
    "                # 更新老师的时间\n",
    "                updateClassTime(dictTeacherTime, [teacher],dataAll.iloc[index][1])\n",
    "                # 在原来老师的基础上增加老师\n",
    "                strTeachers = strTeachers + dataAll.iloc[index][4] + \":\" + teacher\n",
    "                flag += 1\n",
    "                break\n",
    "        if flag != round:\n",
    "            print(\"监考老师不足\" + dataAll.iloc[index][0])\n",
    "    moniterTeacherList.append(strTeachers)\n",
    "    return moniterTeacherList"
   ]
  },
  {
   "cell_type": "code",
   "execution_count": 90,
   "metadata": {},
   "outputs": [
    {
     "output_type": "stream",
     "name": "stdout",
     "text": [
      "监考老师不足210GX001\n监考老师不足210GX001\n监考老师不足210GX001\n监考老师不足210GX001\n"
     ]
    }
   ],
   "source": [
    "# 开始二次排监考老师\n",
    "dataAll = pd.read_csv(\"temp.csv\",header = None)   \n",
    "Moniter2Round = []\n",
    "for i in range(len(dataAll)):\n",
    "    # # 这是要安排三个老师的\n",
    "    # if dataAll.iloc[i][3] >= threshold:\n",
    "    #     Moniter2Round = arrangeNewTeacher(Moniter2Round, i, 2)\n",
    "    # 这个是 >= 60 的情况\n",
    "    if dataAll.iloc[i][3] >= limited:\n",
    "        Moniter2Round = arrangeNewTeacher(Moniter2Round, i, 1)\n",
    "    # 这个是大于\n",
    "    else:\n",
    "        Moniter2Round.append(dataAll.iloc[i][4])\n"
   ]
  },
  {
   "cell_type": "code",
   "execution_count": 91,
   "metadata": {},
   "outputs": [],
   "source": [
    "dataAll[4] = Moniter2Round\n",
    "dataAll.to_csv(\"temp.csv\",encoding = \"utf-8\",mode=\"w\",index = None, header = False)"
   ]
  },
  {
   "cell_type": "code",
   "execution_count": 116,
   "metadata": {},
   "outputs": [
    {
     "output_type": "execute_result",
     "data": {
      "text/plain": [
       "0"
      ]
     },
     "metadata": {},
     "execution_count": 116
    }
   ],
   "source": []
  },
  {
   "cell_type": "code",
   "execution_count": 61,
   "metadata": {},
   "outputs": [
    {
     "output_type": "execute_result",
     "data": {
      "text/plain": [
       "10"
      ]
     },
     "metadata": {},
     "execution_count": 61
    }
   ],
   "source": []
  },
  {
   "cell_type": "code",
   "execution_count": null,
   "metadata": {},
   "outputs": [],
   "source": []
  }
 ]
}