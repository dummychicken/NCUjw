{
 "metadata": {
  "language_info": {
   "codemirror_mode": {
    "name": "ipython",
    "version": 3
   },
   "file_extension": ".py",
   "mimetype": "text/x-python",
   "name": "python",
   "nbconvert_exporter": "python",
   "pygments_lexer": "ipython3",
   "version": "3.6.8"
  },
  "orig_nbformat": 2,
  "kernelspec": {
   "name": "python368jvsc74a57bd08bf3c53b5bd1c68c2325a2dcc243c7b1b8cb5fd291ebe30dbbc3f2b3f606b4f4",
   "display_name": "Python 3.6.8 64-bit"
  },
  "metadata": {
   "interpreter": {
    "hash": "8bf3c53b5bd1c68c2325a2dcc243c7b1b8cb5fd291ebe30dbbc3f2b3f606b4f4"
   }
  }
 },
 "nbformat": 4,
 "nbformat_minor": 2,
 "cells": [
  {
   "cell_type": "code",
   "execution_count": 340,
   "metadata": {
    "tags": []
   },
   "outputs": [],
   "source": [
    "import csv \n",
    "import pandas as pd\n",
    "# 按照每门课程的考试班级数目进行排序\n",
    "def SamplingCourse(file):\n",
    "    with open(file,\"r\",encoding=\"UTF-8\") as f:\n",
    "        reader = csv.reader(f)\n",
    "        column = [row[0] for row in reader]\n",
    "    hashmapClass = {}\n",
    "    for i in range(len(column)):\n",
    "        hashmapClass[column[i]] = hashmapClass.get(column[i],0) + 1\n",
    "    sortedCourse = sorted(hashmapClass.items(), key=lambda d:d[1], reverse = True)\n",
    "    return sortedCourse[30:40]"
   ]
  },
  {
   "cell_type": "code",
   "execution_count": 341,
   "metadata": {},
   "outputs": [],
   "source": [
    "# 生成课程和班级的表\n",
    "data = pd.read_csv(\"class.csv\", usecols=[\"ci_course_no\",\"ci_class_name\",\"ci_student_number\",\"ci_teacher_name\",\"ci_class_dep\"])"
   ]
  },
  {
   "cell_type": "code",
   "execution_count": 342,
   "metadata": {},
   "outputs": [],
   "source": [
    "# 找出共同能考试的时间\n",
    "def findCommonTime(temp, listClass):\n",
    "    commonTime = []\n",
    "    for i in range(len(temp)):\n",
    "        commonTime.append(temp[i] & listClass[i])\n",
    "    return commonTime"
   ]
  },
  {
   "cell_type": "code",
   "execution_count": 343,
   "metadata": {},
   "outputs": [],
   "source": [
    "# 将结果写入表中\n",
    "def writeToCsv(temp, course, classes, number, teacher):\n",
    "    course = [course] * len(classes)\n",
    "    time = [temp.index(1)] * len(classes)\n",
    "    test = pd.DataFrame({'课程': course, \"考试时间\": time, \"班级\": classes,\"班级人数\": number, \"监考老师\": teacher})\n",
    "    test.to_csv(\"temp.csv\",encoding = \"utf-8\",mode=\"a\",index = None, header = False)"
   ]
  },
  {
   "cell_type": "code",
   "execution_count": 344,
   "metadata": {},
   "outputs": [],
   "source": [
    "# 讲已经排考成功的1修改成0, 如[1,1,1,1]->[0,1,1,1] 维护表\n",
    "def updateClassTime(dict, listclass, index):\n",
    "    for classes in listclass:\n",
    "        dict[classes][index] = 0\n",
    "    return dict"
   ]
  },
  {
   "cell_type": "code",
   "execution_count": 345,
   "metadata": {},
   "outputs": [],
   "source": [
    "# 函数的效果是对班级进行统, 目的是每个班级必须有一个考试时间表 \n",
    "# 比如 \"行政管理[193-4]班,人工智能191班\" -> ['行政管理193班', '行政管理194班', '人工智能191班']\n",
    "def unitedClass(strClass):\n",
    "    listClasses = strClass.split(\",\")\n",
    "    splitClassList = []\n",
    "    for classes in listClasses:\n",
    "        if \"-\" in classes:\n",
    "            middleIndex = classes.index(\"-\")\n",
    "            firstIndex = classes.index(\"[\")\n",
    "            lastIndex = classes.index(\"]\")\n",
    "            lastClassNum = int(classes[middleIndex + 1 :lastIndex])\n",
    "            firstClassNum = int(classes[middleIndex - 1])\n",
    "            for i in range( firstClassNum, lastClassNum + 1):\n",
    "                splitClassList.append(classes[0:firstIndex] + classes[firstIndex + 1:middleIndex-1] + str(i) + \"班\")\n",
    "        else:\n",
    "            splitClassList.append(classes)\n",
    "    return splitClassList"
   ]
  },
  {
   "cell_type": "code",
   "execution_count": 346,
   "metadata": {},
   "outputs": [],
   "source": [
    "# 这里是在定义拆分规则\n",
    "# 可以人数超出阈值, 则拆分班级, 如果人数没有超过, 就不拆\n",
    "# 可以避免合班的问题\n",
    "def splitClass(classWhoTakeCourse,classCourseNumber):\n",
    "    newClassWhoTakeCourse = []\n",
    "    newClassCourseNumber = []\n",
    "    for i in range(len(classCourseNumber)):\n",
    "        # 这个数字怎么订 还是要看教室的具体规模\n",
    "        if classCourseNumber[i] > 80:\n",
    "            classes = unitedClass(classWhoTakeCourse[i])\n",
    "            # 如果拆分出来的班级小于30人, 就没有必要拆\n",
    "            if classCourseNumber[i] // len(classes) <= 30:\n",
    "                newClassCourseNumber.append(classCourseNumber[i])\n",
    "                newClassWhoTakeCourse.append(classWhoTakeCourse[i])\n",
    "            else:\n",
    "                for unit in classes:\n",
    "                    newClassWhoTakeCourse.append(unit)\n",
    "                    # 这里需要插一段每个班级真正人数的查询\n",
    "                    # 这里是偷懒取了个平均 \n",
    "                    newClassCourseNumber.append(classCourseNumber[i]//len(classes))\n",
    "        else:\n",
    "            newClassCourseNumber.append(classCourseNumber[i])\n",
    "            newClassWhoTakeCourse.append(classWhoTakeCourse[i])\n",
    "    return newClassWhoTakeCourse, newClassCourseNumber"
   ]
  },
  {
   "cell_type": "code",
   "execution_count": 347,
   "metadata": {},
   "outputs": [],
   "source": [
    "# 建立每个老师和时间的联系\n",
    "dictTeacherTime = {}\n",
    "for i in range(len(data)):\n",
    "    teacher = data.loc[i][\"ci_teacher_name\"]\n",
    "    if teacher is np.nan:\n",
    "        continue\n",
    "    elif \":\" in teacher:\n",
    "        teacherlist = teacher.split(\":\")\n",
    "        for teachers in teacherlist:\n",
    "            dictTeacherTime[teachers] = dictTeacherTime.get(teachers,[1]*12)\n",
    "    else:\n",
    "        dictTeacherTime[teacher] = dictTeacherTime.get(teacher,[1]*12)"
   ]
  },
  {
   "cell_type": "code",
   "execution_count": 348,
   "metadata": {},
   "outputs": [],
   "source": [
    "# 建立每个key和value的联系\n",
    "# 比如 课程 和 老师\n",
    "import numpy as np\n",
    "import re \n",
    "\n",
    "def buildConnectionDict(data, key, value):\n",
    "    dictKeyValue = {}\n",
    "    for i in range(len(data)):\n",
    "        keyName = data.loc[i][key]\n",
    "        dictKeyValue[keyName] = dictKeyValue.get(keyName,[])\n",
    "        valueName = data.loc[i][value]\n",
    "        if valueName is np.nan:\n",
    "            continue\n",
    "        elif \":\" in valueName:\n",
    "            valueList = valueName.split(\":\")\n",
    "            for values in valueList:\n",
    "                dictKeyValue[keyName].append(values)\n",
    "        else:\n",
    "            dictKeyValue[keyName].append(valueName)\n",
    "    for key,value in dictKeyValue.items():\n",
    "        value = list(set(value))\n",
    "        dictKeyValue[key] =  value\n",
    "    return dictKeyValue"
   ]
  },
  {
   "cell_type": "code",
   "execution_count": 349,
   "metadata": {},
   "outputs": [],
   "source": [
    "# 建立所有学院和老师的联系\n",
    "dataCollege = pd.read_csv(\"class.csv\", usecols=[\"ci_class_dep\",\"ci_teacher_name\"])\n",
    "dictCollegeTeacher = buildConnectionDict(dataCollege, \"ci_class_dep\",\"ci_teacher_name\")\n",
    "# 建立课程和学院的联系\n",
    "dataCourse = pd.read_csv(\"class.csv\", usecols=[\"ci_class_dep\",\"ci_course_no\"])\n",
    "dictCourseCollege = buildConnectionDict(dataCourse,\"ci_course_no\",\"ci_class_dep\")\n",
    "# 建立课程和老师的联系\n",
    "dataCourseTeacher = pd.read_csv(\"class.csv\", usecols=[\"ci_course_no\",\"ci_teacher_name\"])\n",
    "dictCourseTeacher = buildConnectionDict(dataCourseTeacher,\"ci_course_no\",\"ci_teacher_name\")"
   ]
  },
  {
   "cell_type": "code",
   "execution_count": 350,
   "metadata": {},
   "outputs": [
    {
     "output_type": "stream",
     "name": "stdout",
     "text": [
      "Wall time: 9.45 s\n"
     ]
    }
   ],
   "source": [
    "%%time\n",
    "# 假设总共考3天，每天4个考试时间段\n",
    "# 生成一个字典，对应的形式是这样的{\"班级1\":[],\"班级2\":[],\"班级3\":[],...}\n",
    "dictClassTime = {}\n",
    "for courseNumber in SamplingCourse(\"class.csv\"):\n",
    "    course = courseNumber[0]\n",
    "    # 查找每一个考这门课的班级\n",
    "    temp = [1]*12\n",
    "    tempTeacher = [1] * 12\n",
    "    classWhoTakeCourse = []\n",
    "    classCourseNumber = []\n",
    "    unitClass = []\n",
    "    classTeacherList = []\n",
    "    for i in range(len(data)):\n",
    "        if data.loc[i][\"ci_course_no\"] == course:\n",
    "            className = data.loc[i][\"ci_class_name\"]\n",
    "            classNumber = data.loc[i][\"ci_student_number\"]\n",
    "            # 保存班级人数和班级的时候以整体为单位\n",
    "            classWhoTakeCourse.append(className)\n",
    "            classCourseNumber.append(classNumber)\n",
    "\n",
    "            # 维护每个班级的时间表\n",
    "            splitClassList = unitedClass(className) \n",
    "            for className in splitClassList:\n",
    "                # 对考这门课的班级的时间进行初始化, 如果不存在就生成一个[1,1,1,1...,]\n",
    "                dictClassTime[className] = dictClassTime.get(className,[1]*12)\n",
    "                # 找到所有参加这门考试 班级的共同空闲时间\n",
    "                # [0,1,1,...,] 和 [1,0,1,...,] 相与\n",
    "                temp = findCommonTime(temp,dictClassTime[className])\n",
    "                unitClass.append(className)\n",
    "            \n",
    "            classTeacher = data.loc[i][\"ci_teacher_name\"]\n",
    "            classTeacherList.append(classTeacher)\n",
    "            \n",
    "            # 接下取监考老师的公共时间\n",
    "            unitTeacher = []\n",
    "            classTeacher = data.loc[i][\"ci_teacher_name\"] \n",
    "            if \":\" in classTeacher:\n",
    "                teachersList = classTeacher.split(\":\")\n",
    "                for teacher in teachersList:\n",
    "                    tempTeacher = findCommonTime(tempTeacher, dictTeacherTime[teacher])\n",
    "                    unitTeacher.append(teacher)\n",
    "            else:\n",
    "                tempTeacher = findCommonTime(tempTeacher,dictTeacherTime[classTeacher])\n",
    "                unitTeacher.append(classTeacher)\n",
    "    \n",
    "    unitTeacher = list(set(unitTeacher))\n",
    "    # 两个公共时间相与\n",
    "    temp = findCommonTime(tempTeacher,temp)\n",
    "    \n",
    "    # 判断监考老师是否足够, 不够从同学院找\n",
    "    if len(unitTeacher) < courseNumber[1]:\n",
    "        college = dictCourseCollege[course]\n",
    "        collegeTeachers = dictCollegeTeacher[college[0]]\n",
    "        for Teacher in collegeTeachers:\n",
    "            if Teacher not in unitTeacher and findCommonTime(dictTeacherTime[Teacher], tempTeacher) == tempTeacher:\n",
    "                unitTeacher.append(Teacher)\n",
    "\n",
    "    # 监考老师多了, 就选到只有这么多老师\n",
    "    # 非常粗糙            \n",
    "    if len(unitTeacher) > courseNumber[1]:\n",
    "        unitTeacher = unitTeacher[0:courseNumber[1]]\n",
    "\n",
    "    if 1 not in temp:\n",
    "        print(\"当前\" + course +\"无法排考\")\n",
    "    # 找到共同可行的时间, 写入csv, 并且标记占用时间\n",
    "    else:\n",
    "        # newClassWhoTakeCourse, newClassCourseNumber = splitClass(classWhoTakeCourse,classCourseNumber)\n",
    "        writeToCsv(temp,course,classWhoTakeCourse,classCourseNumber, unitTeacher)\n",
    "        updateClassTime(dictClassTime, unitClass, temp.index(1))\n",
    "        updateClassTime(dictTeacherTime, unitTeacher, temp.index(1))"
   ]
  },
  {
   "cell_type": "code",
   "execution_count": 267,
   "metadata": {
    "tags": []
   },
   "outputs": [
    {
     "output_type": "stream",
     "name": "stdout",
     "text": [
      "无足够老师550GL003\n无足够老师550GL003\n无足够老师550GL003\n无足够老师550GL003\n无足够老师550GL003\n无足够老师550GL003\n无足够老师550GL003\n无足够老师550GL003\n无足够老师550GL003\n无足够老师550GL003\n无足够老师550GL003\n无足够老师550GL003\n无足够老师550GL003\n无足够老师550GL003\n无足够老师Z521KB4009\n无足够老师Z521KB4009\n无足够老师Z521KB4009\n无足够老师Z521KB4009\n无足够老师Z521KB4009\n无足够老师Z521KB4009\n无足够老师Z521KB4009\n无足够老师Z521KB4009\n无足够老师Z521KB4009\n无足够老师Z521KB4009\n无足够老师Z521KB4009\n无足够老师Z521KB4009\n无足够老师Z521KB4009\n无足够老师Z521KB4009\n无足够老师550GL001\n无足够老师550GL001\n无足够老师550GL001\n无足够老师550GL001\n无足够老师550GL001\n无足够老师550GL001\n无足够老师550GL001\n无足够老师550GL001\n无足够老师550GL001\n无足够老师550GL001\n无足够老师550GL001\n无足够老师550GL001\n无足够老师550GL001\n无足够老师550GL005\n无足够老师550GL005\n无足够老师550GL005\n无足够老师550GL005\n无足够老师550GL005\n无足够老师550GL005\n无足够老师550GL005\n无足够老师550GL005\n无足够老师550GL005\n无足够老师550GL005\n无足够老师550GL005\n无足够老师550GL005\n无足够老师550GL005\n无足够老师550GL005\n无足够老师550GL005\n无足够老师550GL005\n无足够老师550GL005\n无足够老师550GL005\n无足够老师550GL005\n无足够老师550GL005\n无足够老师510GY017\n无足够老师510GY017\n无足够老师510GY017\n无足够老师510GY017\n无足够老师510GY017\n无足够老师510GY017\n无足够老师510GY017\n无足够老师510GY017\n无足够老师510GY017\n无足够老师510GY017\n无足够老师510GY017\n无足够老师510GY017\n无足够老师510GY017\n无足够老师J5420S0003\n无足够老师J5420S0003\n无足够老师J5420S0003\n无足够老师J5420S0003\n无足够老师J5420S0003\n无足够老师J5420S0003\n无足够老师J5420S0003\n无足够老师J5420S0003\n无足够老师J5420S0003\n无足够老师J5420S0003\n无足够老师J5420S0003\n无足够老师Z521KX4007\n无足够老师Z521KX4007\n无足够老师Z521KX4007\n无足够老师Z521KX4007\n无足够老师Z521KX4007\n无足够老师Z521KX4007\n无足够老师Z521KX4007\n无足够老师Z521KX4007\n无足够老师Z521KX4007\n无足够老师Z521KX4007\n无足够老师Z521KX4007\n无足够老师421ZP019\n无足够老师421ZP019\n无足够老师421ZP019\n无足够老师421ZP019\n无足够老师421ZP019\n无足够老师421ZP019\n无足够老师421ZP019\n无足够老师421ZP019\n无足够老师421ZP019\n无足够老师421ZP019\n无足够老师605ZP001\n无足够老师605ZP001\n无足够老师605ZP001\n无足够老师605ZP001\n无足够老师605ZP001\n无足够老师605ZP001\n无足够老师605ZP001\n无足够老师605ZP001\n无足够老师605ZP001\n无足够老师605ZP001\n无足够老师590GL005\n无足够老师590GL005\n无足够老师590GL005\n无足够老师590GL005\n无足够老师590GL005\n无足够老师590GL005\n无足够老师590GL005\n无足够老师590GL005\n无足够老师590GL005\n无足够老师590GL005\n无足够老师590GL005\n"
     ]
    }
   ],
   "source": [
    "# 开始分配老师\n",
    "dataTemp = pd.read_csv(\"temp.csv\", usecols=[\"课程\",\"考试时间\"])\n",
    "Monitor = []\n",
    "for i in range(len(dataTemp)):\n",
    "    course = dataTemp.loc[i][\"课程\"]\n",
    "    time = dataTemp.loc[i][\"考试时间\"]\n",
    "    teacherlist = dictCourseTeacher[course]\n",
    "    for teacher in teacherlist:\n",
    "        # 如果主课老师时间没问题\n",
    "        if dictTeacherTime[teacher][time] == 1:\n",
    "            Monitor.append(teacher)\n",
    "            updateClassTime(dictTeacherTime,[teacher],time)\n",
    "            break \n",
    "    # 老师不够 请同学院的老师帮忙监考\n",
    "    # 找这个课程对应的学院\n",
    "    college = dictCourseCollege[course]\n",
    "    for teachers in dictCollegeTeacher[college[0]]:\n",
    "        if dictTeacherTime[teachers][time] == 1:\n",
    "            Monitor.append(teachers)\n",
    "            updateClassTime(dictTeacherTime,[teachers],time)\n",
    "            break\n",
    "        else:\n",
    "            continue\n",
    "    print(\"无足够老师\" + course)"
   ]
  },
  {
   "cell_type": "code",
   "execution_count": null,
   "metadata": {},
   "outputs": [],
   "source": [
    "colle"
   ]
  }
 ]
}