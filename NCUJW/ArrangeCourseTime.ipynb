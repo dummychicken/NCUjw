{
 "metadata": {
  "language_info": {
   "codemirror_mode": {
    "name": "ipython",
    "version": 3
   },
   "file_extension": ".py",
   "mimetype": "text/x-python",
   "name": "python",
   "nbconvert_exporter": "python",
   "pygments_lexer": "ipython3",
   "version": "3.6.8"
  },
  "orig_nbformat": 2,
  "kernelspec": {
   "name": "python368jvsc74a57bd08bf3c53b5bd1c68c2325a2dcc243c7b1b8cb5fd291ebe30dbbc3f2b3f606b4f4",
   "display_name": "Python 3.6.8 64-bit"
  },
  "metadata": {
   "interpreter": {
    "hash": "8bf3c53b5bd1c68c2325a2dcc243c7b1b8cb5fd291ebe30dbbc3f2b3f606b4f4"
   }
  }
 },
 "nbformat": 4,
 "nbformat_minor": 2,
 "cells": [
  {
   "cell_type": "code",
   "execution_count": 1,
   "metadata": {
    "tags": []
   },
   "outputs": [],
   "source": [
    "import csv \n",
    "import pandas as pd\n",
    "# 按照每门课程的考试班级数目进行排序\n",
    "def SamplingCourse(file):\n",
    "    with open(file,\"r\",encoding=\"UTF-8\") as f:\n",
    "        reader = csv.reader(f)\n",
    "        column = [row[0] for row in reader]\n",
    "    hashmapClass = {}\n",
    "    for i in range(len(column)):\n",
    "        hashmapClass[column[i]] = hashmapClass.get(column[i],0) + 1\n",
    "    sortedCourse = sorted(hashmapClass.items(), key=lambda d:d[1], reverse = True)\n",
    "    return sortedCourse[15:25]"
   ]
  },
  {
   "cell_type": "code",
   "execution_count": 2,
   "metadata": {},
   "outputs": [],
   "source": [
    "# 生成课程和班级的表\n",
    "data = pd.read_csv(\"classs_inf.csv\", usecols=[\"ci_course_no\",\"ci_class_name\",\"ci_student_number\"])"
   ]
  },
  {
   "cell_type": "code",
   "execution_count": 3,
   "metadata": {},
   "outputs": [],
   "source": [
    "def findCommonTime(temp, listClass):\n",
    "    commonTime = []\n",
    "    for i in range(len(temp)):\n",
    "        commonTime.append(temp[i] & listClass[i])\n",
    "    return commonTime"
   ]
  },
  {
   "cell_type": "code",
   "execution_count": 4,
   "metadata": {},
   "outputs": [],
   "source": [
    "def writeToCsv(temp, course, classes,number):\n",
    "    course = [course] * len(classes)\n",
    "    time = [temp.index(1)] * len(classes)\n",
    "    test = pd.DataFrame({'课程': course, \"考试时间\": time, \"班级\": classes,\"班级人数\": number})\n",
    "    test.to_csv(\"temp.csv\",encoding = \"utf-8\",mode=\"a\",index = None, header = False)"
   ]
  },
  {
   "cell_type": "code",
   "execution_count": 5,
   "metadata": {},
   "outputs": [],
   "source": [
    "def updateClassTime(dict, listclass, index):\n",
    "    for classes in listclass:\n",
    "        dict[classes][index] = 0\n",
    "    return dict\n"
   ]
  },
  {
   "cell_type": "code",
   "execution_count": 9,
   "metadata": {},
   "outputs": [],
   "source": [
    "# 假设总共考3天，每天4个考试时间段\n",
    "# 生成一个字典，对应的形式是这样的{\"班级1\":[],\"班级2\":[],\"班级3\":[],...}\n",
    "dictClassTime = {}\n",
    "for courseNumber in SamplingCourse(\"classs_inf.csv\"):\n",
    "    course = courseNumber[0]\n",
    "    # 查找每一个考这门课的班级\n",
    "    temp = [1]*12\n",
    "    classWhoTakeCourse = []\n",
    "    classCourseNumber = []\n",
    "    for i in range(len(data)):\n",
    "        if data.loc[i][\"ci_course_no\"] == course:\n",
    "            className = data.loc[i][\"ci_class_name\"]\n",
    "            classNumber = data.loc[i][\"ci_student_number\"]\n",
    "            # 对考这门课的班级的时间进行初始化, 如果不存在就生成一个[1,1,1,1...,]\n",
    "            dictClassTime[className] = dictClassTime.get(className,[1]*12)\n",
    "            # 需要记录所有有这门课的班级\n",
    "            classWhoTakeCourse.append(className)\n",
    "            classCourseNumber.append(classNumber)\n",
    "            # 找到所有参加这门考试 班级的共同空闲时间\n",
    "            # [0,1,1,...,] 和 [1,0,1,...,] 相与\n",
    "            temp = findCommonTime(temp,dictClassTime[className])\n",
    "    if 1 not in temp:\n",
    "        print(\"当前\" + course +\"无法排考\")\n",
    "    # 找到共同可行的时间, 写入csv, 并且标记占用时间\n",
    "    else:\n",
    "        writeToCsv(temp,course,classWhoTakeCourse,classCourseNumber)\n",
    "        updateClassTime(dictClassTime, classWhoTakeCourse, temp.index(1))"
   ]
  },
  {
   "cell_type": "code",
   "execution_count": null,
   "metadata": {},
   "outputs": [],
   "source": []
  }
 ]
}