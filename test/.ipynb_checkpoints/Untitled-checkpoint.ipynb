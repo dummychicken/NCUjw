{
 "cells": [
  {
   "cell_type": "code",
   "execution_count": 1,
   "metadata": {},
   "outputs": [
    {
     "name": "stdout",
     "output_type": "stream",
     "text": [
      "1.921001672744751\n",
      "Wall time: 2.86 s\n"
     ]
    }
   ],
   "source": [
    "%%time\n",
    "\n",
    "import csv\n",
    "import time as ti\n",
    "\n",
    "import numpy as np\n",
    "import pandas as pd\n",
    "\n",
    "import function as fn\n",
    "from config import Config as cf\n",
    "\n",
    "\n",
    "st_time = ti.time()\n",
    "period = cf.get_period()\n",
    "limited = cf.get_limited()\n",
    "threshold = cf.get_threshold()\n",
    "\n",
    "#sql_data = \"\"\"\n",
    "            #select ci_course_no,ci_class_name,\n",
    "            #ci_student_number,ci_teacher_name,ci_class_dep\n",
    "            #from classs_inf\n",
    "            #\"\"\"\n",
    "\n",
    "data = pd.read_csv(\"class.csv\", usecols=[\"ci_course_no\",\"ci_class_name\",\"ci_student_number\",\"ci_teacher_name\",\"ci_class_dep\"])\n",
    "\n",
    "#data = fn.getDF(sql_data)\n",
    "\n",
    "# 数据预处理模板\n",
    "#fn.pre_split_class(data) # 拆分同一行内按类似“1-3”的班级\n",
    "data[\"ci_class_name\"] = data[\"ci_class_name\"].apply(fn.pre_split_class) # 拆分同一行内按类似“1-3”的班级\n",
    "\n",
    "# 建立每个老师和时间的联系\n",
    "dictTeacherTime = {}\n",
    "for cl_ter_name in data[\"ci_teacher_name\"]:\n",
    "#for i in range(len(data)):\n",
    "    #teacher = data.loc[i][\"ci_teacher_name\"]\n",
    "    teacher = cl_ter_name\n",
    "    if teacher is np.nan:\n",
    "        continue\n",
    "    elif \":\" in teacher:\n",
    "        teacherlist = teacher.split(\":\")\n",
    "        for teachers in teacherlist:\n",
    "            dictTeacherTime[teachers] = dictTeacherTime.get(teachers,[1]*period)\n",
    "    else:\n",
    "        dictTeacherTime[teacher] = dictTeacherTime.get(teacher,[1]*period)\n",
    "\n",
    "\n",
    "# 建立所有学院和老师的联系\n",
    "dataCollege = pd.read_csv(\"class.csv\", usecols=[\"ci_class_dep\",\"ci_teacher_name\"])\n",
    "dictCollegeTeacher = fn.buildConnectionDict(dataCollege, \"ci_class_dep\",\"ci_teacher_name\")\n",
    "# 建立课程和学院的联系\n",
    "dataCourse = pd.read_csv(\"class.csv\", usecols=[\"ci_class_dep\",\"ci_course_no\"])\n",
    "dictCourseCollege = fn.buildConnectionDict(dataCourse,\"ci_course_no\",\"ci_class_dep\")\n",
    "# 建立课程和老师的联系\n",
    "dataCourseTeacher = pd.read_csv(\"class.csv\", usecols=[\"ci_course_no\",\"ci_teacher_name\"])\n",
    "dictCourseTeacher = fn.buildConnectionDict(dataCourseTeacher,\"ci_course_no\",\"ci_teacher_name\")\n",
    "\n",
    "# 生成一个字典，对应的形式是这样的{\"班级1\":[],\"班级2\":[],\"班级3\":[],...}\n",
    "dictClassTime = {}\n",
    "for courseNumber in fn.SamplingCourse(\"class.csv\"):\n",
    "    course = courseNumber[0]\n",
    "    temp = [1] * period\n",
    "    tempTeacher = [1] * period\n",
    "    classWhoTakeCourse = []\n",
    "    classCourseNumber = []\n",
    "    unitClass = []\n",
    "    classTeacherList = []\n",
    "    indexList = []\n",
    "    unitTeacher = []\n",
    "\n",
    "    for i,cl_name,cl_num,cl_ter,cl_co in zip(data.index,data[\"ci_class_name\"],data[\"ci_student_number\"],data[\"ci_teacher_name\"],data[\"ci_course_no\"].values):\n",
    "        # 查找每一个考这门课的班级\n",
    "        if cl_co == course:\n",
    "            className = cl_name\n",
    "            classNumber = cl_num\n",
    "            # 保存班级人数和班级的时候以整体为单位\n",
    "            classWhoTakeCourse.append(className)\n",
    "            classCourseNumber.append(classNumber)\n",
    "            indexList.append(i)\n",
    "\n",
    "            # 取每个班级的公共时间\n",
    "            splitClassList = fn.unitedClass(className) \n",
    "            for className in splitClassList:\n",
    "                # 对考这门课的班级的时间进行初始化, 如果不存在就生成一个[1,1,1,1...,]\n",
    "                dictClassTime[className] = dictClassTime.get(className,[1] * period)\n",
    "                # 找到所有参加这门考试 班级的共同空闲时间\n",
    "                # [0,1,1,...,] 和 [1,0,1,...,] 相与\n",
    "                temp = fn.findCommonTime(temp,dictClassTime[className])\n",
    "                unitClass.append(className)\n",
    "            \n",
    "            classTeacher = cl_ter\n",
    "            classTeacherList.append(classTeacher)\n",
    "            \n",
    "            # 接下取监考老师的公共时间\n",
    "            if \":\" in classTeacher:\n",
    "                teachersList = classTeacher.split(\":\")\n",
    "                for teacher in teachersList:\n",
    "                    tempTeacher = fn.findCommonTime(tempTeacher, dictTeacherTime[teacher])\n",
    "                    unitTeacher.append(teacher)\n",
    "            else:\n",
    "                tempTeacher = fn.findCommonTime(tempTeacher,dictTeacherTime[classTeacher])\n",
    "                unitTeacher.append(classTeacher)\n",
    "    \n",
    "    # 去除重复老师\n",
    "    unitTeacher = list(set(unitTeacher))\n",
    "    #print(len(unitTeacher))\n",
    "\n",
    "    # 两个公共时间相与\n",
    "    temp = fn.findCommonTime(tempTeacher,temp)\n",
    "    \n",
    "    # 判断监考老师是否足够, 不够从同学院找\n",
    "    if len(unitTeacher) < courseNumber[1]:\n",
    "        college = dictCourseCollege[course]\n",
    "        collegeTeachers = dictCollegeTeacher[college[0]]\n",
    "        for Teacher in collegeTeachers:\n",
    "            if Teacher not in unitTeacher and fn.findCommonTime(dictTeacherTime[Teacher], tempTeacher) == tempTeacher:\n",
    "                unitTeacher.append(Teacher)\n",
    "\n",
    "    # 监考老师多了, 就选到只有这么多老师, 非常粗糙         \n",
    "    if len(unitTeacher) > courseNumber[1]:\n",
    "        unitTeacher = unitTeacher[0:courseNumber[1]]\n",
    "    \n",
    "    di = 0\n",
    "    if len(unitTeacher) < courseNumber[1]:\n",
    "        di = courseNumber[1] - len(unitTeacher)\n",
    "        print(courseNumber[0]+\"课程，当前老师不足，缺少\"+str(courseNumber[1])+\" - \"+str(len(unitTeacher))+\" = \"+str(di)+\"个，用-1代替\")\n",
    "        di_list = [\"-1\"]*di\n",
    "        unitTeacher.extend(di_list)\n",
    "\n",
    "\n",
    "    # 记录没有授课老师的情况\n",
    "    #fn.writeImperfect(indexList,unitTeacher,data)\n",
    "\n",
    "    if 1 not in temp:\n",
    "        print(\"当前\" + course +\"无法排考\")\n",
    "    # 找到共同可行的时间, 写入csv, 并且标记占用时间\n",
    "    else:\n",
    "        _time = fn.optimalTime(temp)\n",
    "        # newClassWhoTakeCourse, newClassCourseNumber = splitClass(classWhoTakeCourse,classCourseNumber)\n",
    "        college = dictCourseCollege[course]\n",
    "        fn.writeToCsv(_time,course,classWhoTakeCourse,classCourseNumber, unitTeacher,college)      \n",
    "        # writeToCsv(temp,course,classWhoTakeCourse,classCourseNumber,college)              \n",
    "        # 更新老师班级的时间表\n",
    "        fn.updateClassTime(dictClassTime, unitClass, _time)\n",
    "        fn.updateTeacherTime(dictTeacherTime, unitTeacher, _time,di)\n",
    "\n",
    "print(ti.time() - st_time)\n"
   ]
  },
  {
   "cell_type": "code",
   "execution_count": 2,
   "metadata": {},
   "outputs": [],
   "source": [
    "data = pd.read_csv(\"class.csv\", usecols=[\"ci_course_no\",\"ci_class_name\",\"ci_student_number\",\"ci_teacher_name\",\"ci_class_dep\"])"
   ]
  },
  {
   "cell_type": "code",
   "execution_count": 52,
   "metadata": {},
   "outputs": [],
   "source": [
    "temp = [1, 0, 0, 1, 0, 1, 1, 0, 1, 0, 0, 1, 0, 1, 1, 0, 0, 1, 1, 1, 1, 0, 0, 1, 1, 1, 0, 1, 0, 1, 1, 1, 1, 1, 0, 1, 1, 0, 1]"
   ]
  },
  {
   "cell_type": "code",
   "execution_count": 53,
   "metadata": {},
   "outputs": [],
   "source": [
    "temp_list = [temp[i:i+4] for i in range(0,len(temp),4)]"
   ]
  },
  {
   "cell_type": "code",
   "execution_count": 54,
   "metadata": {},
   "outputs": [],
   "source": [
    "temp_list1 = [temp[i:i+2] for i in range(0,len(temp),2)]"
   ]
  },
  {
   "cell_type": "code",
   "execution_count": 6,
   "metadata": {},
   "outputs": [
    {
     "data": {
      "text/plain": [
       "[1, 1]"
      ]
     },
     "execution_count": 6,
     "metadata": {},
     "output_type": "execute_result"
    }
   ],
   "source": [
    "temp[:2]"
   ]
  },
  {
   "cell_type": "code",
   "execution_count": 55,
   "metadata": {},
   "outputs": [
    {
     "data": {
      "text/plain": [
       "[[1, 0, 0, 1],\n",
       " [0, 1, 1, 0],\n",
       " [1, 0, 0, 1],\n",
       " [0, 1, 1, 0],\n",
       " [0, 1, 1, 1],\n",
       " [1, 0, 0, 1],\n",
       " [1, 1, 0, 1],\n",
       " [0, 1, 1, 1],\n",
       " [1, 1, 0, 1],\n",
       " [1, 0, 1]]"
      ]
     },
     "execution_count": 55,
     "metadata": {},
     "output_type": "execute_result"
    }
   ],
   "source": [
    "temp_list"
   ]
  },
  {
   "cell_type": "code",
   "execution_count": 59,
   "metadata": {},
   "outputs": [
    {
     "data": {
      "text/plain": [
       "[[1, 0],\n",
       " [0, 1],\n",
       " [0, 1],\n",
       " [1, 0],\n",
       " [1, 0],\n",
       " [0, 1],\n",
       " [0, 1],\n",
       " [1, 0],\n",
       " [0, 1],\n",
       " [1, 1],\n",
       " [1, 0],\n",
       " [0, 1],\n",
       " [1, 1],\n",
       " [0, 1],\n",
       " [0, 1],\n",
       " [1, 1],\n",
       " [1, 1],\n",
       " [0, 1],\n",
       " [1, 0],\n",
       " [1]]"
      ]
     },
     "execution_count": 59,
     "metadata": {},
     "output_type": "execute_result"
    }
   ],
   "source": [
    "temp_list1"
   ]
  },
  {
   "cell_type": "code",
   "execution_count": 60,
   "metadata": {},
   "outputs": [
    {
     "data": {
      "text/plain": [
       "[0, 1]"
      ]
     },
     "execution_count": 60,
     "metadata": {},
     "output_type": "execute_result"
    }
   ],
   "source": [
    "temp_list1[2]"
   ]
  },
  {
   "cell_type": "code",
   "execution_count": 36,
   "metadata": {},
   "outputs": [
    {
     "data": {
      "text/plain": [
       "3"
      ]
     },
     "execution_count": 36,
     "metadata": {},
     "output_type": "execute_result"
    }
   ],
   "source": [
    "np.random.randint(0,4)"
   ]
  },
  {
   "cell_type": "code",
   "execution_count": 63,
   "metadata": {},
   "outputs": [
    {
     "data": {
      "text/plain": [
       "20"
      ]
     },
     "execution_count": 63,
     "metadata": {},
     "output_type": "execute_result"
    }
   ],
   "source": [
    "41 // 2"
   ]
  },
  {
   "cell_type": "code",
   "execution_count": 64,
   "metadata": {},
   "outputs": [
    {
     "data": {
      "text/plain": [
       "24"
      ]
     },
     "execution_count": 64,
     "metadata": {},
     "output_type": "execute_result"
    }
   ],
   "source": [
    "sum(temp)"
   ]
  },
  {
   "cell_type": "code",
   "execution_count": 65,
   "metadata": {},
   "outputs": [
    {
     "data": {
      "text/plain": [
       "array([0, 8, 1, 2, 9, 6, 4, 3, 5, 7])"
      ]
     },
     "execution_count": 65,
     "metadata": {},
     "output_type": "execute_result"
    }
   ],
   "source": [
    " np.random.choice(10,10,replace=False)"
   ]
  },
  {
   "cell_type": "code",
   "execution_count": 66,
   "metadata": {},
   "outputs": [
    {
     "data": {
      "text/plain": [
       "array([18,  5,  2, 14, 15,  7, 10,  8, 16,  4, 13,  0,  3, 12, 11,  6,  9,\n",
       "       17,  1])"
      ]
     },
     "execution_count": 66,
     "metadata": {},
     "output_type": "execute_result"
    }
   ],
   "source": [
    "a = np.random.choice(len(temp)//2,len(temp)//2,replace=False)"
   ]
  },
  {
   "cell_type": "code",
   "execution_count": null,
   "metadata": {},
   "outputs": [],
   "source": [
    "for"
   ]
  }
 ],
 "metadata": {
  "kernelspec": {
   "display_name": "Python 3",
   "language": "python",
   "name": "python3"
  },
  "language_info": {
   "codemirror_mode": {
    "name": "ipython",
    "version": 3
   },
   "file_extension": ".py",
   "mimetype": "text/x-python",
   "name": "python",
   "nbconvert_exporter": "python",
   "pygments_lexer": "ipython3",
   "version": "3.8.5"
  }
 },
 "nbformat": 4,
 "nbformat_minor": 4
}
